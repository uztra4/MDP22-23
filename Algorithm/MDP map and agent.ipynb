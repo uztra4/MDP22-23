{
 "cells": [
  {
   "cell_type": "code",
   "execution_count": 1,
   "metadata": {},
   "outputs": [],
   "source": [
    "import numpy as np\n",
    "import matplotlib.pyplot as plt\n",
    "from seaborn import heatmap\n",
    "import networkx as nx\n",
    "import queue\n",
    "import math"
   ]
  },
  {
   "cell_type": "code",
   "execution_count": null,
   "metadata": {},
   "outputs": [],
   "source": []
  },
  {
   "cell_type": "code",
   "execution_count": 2,
   "metadata": {},
   "outputs": [],
   "source": [
    "class Agent:\n",
    "    pos = [0.0,0.0]\n",
    "    direction = 0.0\n",
    "    size = 3\n",
    "    \n",
    "    def __init__(self,x,y,direction):\n",
    "        self.pos = [x,y]\n",
    "        self.direction = direction\n",
    "        \n",
    "    def getSize(self):\n",
    "        return self.size\n",
    "    \n",
    "    def getPos(self):\n",
    "        return self.pos\n",
    "    \n",
    "    def getAproxPos(self):\n",
    "        AproxPos = self.pos.copy()\n",
    "        AproxPos[0] = round(AproxPos[0])\n",
    "        AproxPos[1] = round(AproxPos[1])\n",
    "        \n",
    "        return AproxPos\n",
    "    \n",
    "    def getDirection(self):\n",
    "        return self.direction\n",
    "    \n",
    "    def getCarFront(self):\n",
    "        #E=0 or -PI, N=PI/2, W=PI, S= -(PI/2)\n",
    "        front = self.getAproxPos()\n",
    "        \n",
    "        if self.direction > -(PI/8) and self.direction < PI/8:\n",
    "            front[0] += 1\n",
    "        elif self.direction > PI/8 and self.direction < 3*PI/8:\n",
    "            front[0] += 1\n",
    "            front[1] += 1\n",
    "        elif self.direction > 3*PI/8 and self.direction < 5*PI/8:\n",
    "            front[1] += 1\n",
    "        elif self.direction > 5*PI/8 and self.direction < 7*PI/8:\n",
    "            front[0] -= 1\n",
    "            front[1] += 1\n",
    "        elif self.direction > 7*PI/8 and self.direction < -(7*PI/8):\n",
    "            front[0] -= 1\n",
    "        elif self.direction > -(7*PI/8) and self.direction < -(5*PI/8):\n",
    "            front[0] -= 1\n",
    "            front[1] -= 1\n",
    "        elif self.direction > -(5*PI/8) and self.direction < -(3*PI/8):\n",
    "            front[1] -= 1\n",
    "        elif self.direction > -(3*PI/8) and self.direction < -(1*PI/8):\n",
    "            front[0] += 1\n",
    "            front[1] -= 1\n",
    "        else:\n",
    "            print(\"outside PI direction values\")\n",
    "        \n",
    "        return front\n",
    "    \n",
    "    def moveForward(self, step):\n",
    "        #E=0 or -PI, N=PI/2, W=PI, S= -(PI/2)\n",
    "        addx = math.cos(self.direction) * step\n",
    "        addy = math.sin(self.direction) * step\n",
    "        \n",
    "        self.pos[0] = self.pos[0] + addx\n",
    "        self.pos[1] = self.pos[1] + addy\n",
    "            \n",
    "    def turnOnSpot(self, direction):\n",
    "        #-PI < direction < PI\n",
    "        self.direction = self.direction + direction\n",
    "        \n",
    "        #Maintain between -PI < direction < PI\n",
    "        if self.direction <= -PI:\n",
    "            self.direction = self.direction + 2*PI\n",
    "        if self.direction > PI:\n",
    "            self.direction = self.direction - 2*PI\n",
    "            \n",
    "    def turnWhileMoving(self, step, radius):\n",
    "        #E=0 or -PI, N=PI/2, W=PI, S= -(PI/2)\n",
    "        self.pos[0] = self.pos[0] + step * math.cos(self.direction)\n",
    "        self.pos[1] = self.pos[1] + step * math.sin(self.direction)\n",
    "        self.direction = self.direction + (step/radius)\n",
    "        \n",
    "        if self.direction <= -PI:\n",
    "            self.direction = self.direction + 2*PI\n",
    "        if self.direction > PI:\n",
    "            self.direction = self.direction - 2*PI"
   ]
  },
  {
   "cell_type": "code",
   "execution_count": 3,
   "metadata": {},
   "outputs": [],
   "source": [
    "class Obstacle:\n",
    "    pos = [0,0]\n",
    "    face = 0\n",
    "    #DEFINE Size of Obstacle\n",
    "    size = 1\n",
    "    \n",
    "    def __init__(self, *args):\n",
    "        if len(args) == 2:\n",
    "            self.pos = [args[0], args[1]]\n",
    "        elif len(args) == 3:\n",
    "            self.pos = [args[0], args[1]]\n",
    "            self.face = args[2]\n",
    "        else:\n",
    "            print(\"Incorrect argument count\")\n",
    "                \n",
    "                \n",
    "    def __eq__(self, other):\n",
    "        if self.pos == other.pos and self.face == other.face:\n",
    "            return True\n",
    "        return False\n",
    "    \n",
    "    def getObsFacing(self):\n",
    "        return self.face"
   ]
  },
  {
   "cell_type": "code",
   "execution_count": 4,
   "metadata": {},
   "outputs": [],
   "source": [
    "class Map:\n",
    "    mapGrid = []\n",
    "    car = Agent(0,0,0)\n",
    "    obsList = []\n",
    "    obsDirDict = {}\n",
    "    borders = set()\n",
    "    size = 0\n",
    "    \n",
    "    global PI\n",
    "    PI = math.pi\n",
    "    \n",
    "    #Step is the distance the robot can move in a straight line in one step\n",
    "    steps = 1\n",
    "    #radius is the distance from the circumference to the center circle when robot moves while turning\n",
    "    radius = 2.5\n",
    "    \n",
    "    def __init__(self,size,x,y,direction):\n",
    "        self.size = size + 2\n",
    "        for i in range(self.size):\n",
    "            self.borders.add((0,i))\n",
    "            self.borders.add((self.size-1, i))\n",
    "            self.borders.add((i,0))\n",
    "            self.borders.add((i,self.size-1))\n",
    "        #print(self.borders)\n",
    "        self.initMap(self.size,x,y,direction)\n",
    "    \n",
    "    def initMap(self,size,x,y,direction):\n",
    "        self.car.pos = [x,y]\n",
    "        self.car.direction = direction\n",
    "        for i in range(self.size):\n",
    "            templist= []\n",
    "            for j in range(self.size):\n",
    "                if ((i,j) in self.borders):\n",
    "                    templist.append(\"W\")\n",
    "                else:\n",
    "                    templist.append(\"-\")\n",
    "            self.mapGrid.append(templist)\n",
    "        self.markCar()\n",
    "    \n",
    "    def printMap(self):\n",
    "        for i in range(self.size):\n",
    "            for j in range(self.size):\n",
    "                print(self.mapGrid[j][i], end = \" \")\n",
    "            print()\n",
    "            \n",
    "    def resetCar(self):\n",
    "        loc = self.car.getAproxPos()\n",
    "        sizeCar = self.car.getSize()\n",
    "        #wingspan of the car\n",
    "        span = int((sizeCar - 1)/2)\n",
    "        \n",
    "        #Remove car on map\n",
    "        for i in range(-span, span+1):\n",
    "            for j in range(-span, span+1):\n",
    "                    self.mapGrid[loc[0]+i][loc[1]+j] = '-'\n",
    "             \n",
    "    \n",
    "    def markCar(self):\n",
    "        loc = self.car.getAproxPos()\n",
    "        front = self.car.getCarFront()\n",
    "        sizeCar = self.car.getSize()\n",
    "        #wingspan of the car\n",
    "        span = int((sizeCar - 1)/2)\n",
    "        \n",
    "        #Avoid checking more if one fails\n",
    "        fail = 0\n",
    "        #Mark car on map\n",
    "        for i in range(-span, span+1):\n",
    "            for j in range(-span, span+1):\n",
    "                #Check whether car is in border or in Obstacle\n",
    "                if (loc[0]+i>=0 and loc[0]+i<= self.size and loc[1]+j>=0 \n",
    "                    and loc[1]+j<= self.size and (loc[0]+i,loc[1]+j) not in self.borders \n",
    "                    and Obstacle(loc[0]+i,loc[1]+j) not in self.obsList):\n",
    "                     \n",
    "                    if i == 0 and j == 0:\n",
    "                        self.mapGrid[loc[0]][loc[1]] = '$'\n",
    "                    elif (loc[0]+i) == front[0] and (loc[1]+j) == front[1]:\n",
    "                        self.mapGrid[loc[0]+i][loc[1]+j] = '@'\n",
    "                    else:\n",
    "                        self.mapGrid[loc[0]+i][loc[1]+j] = '+'\n",
    "                #Remove car if in border\n",
    "                else:\n",
    "                    fail = 1\n",
    "                    break\n",
    "            \n",
    "            if fail == 1:\n",
    "                    self.checkCarBorder()\n",
    "                    print(\"Car in border obstacle\")\n",
    "                    break\n",
    "    \n",
    "    \n",
    "    def checkCarBorder(self):\n",
    "        loc = self.car.getAproxPos()\n",
    "        sizeCar = self.car.getSize()\n",
    "        #wingspan of the car\n",
    "        span = int((sizeCar - 1)/2)\n",
    "        \n",
    "        #Remove car on map\n",
    "        for i in range(-span, span+1):\n",
    "            for j in range(-span, span+1):\n",
    "                #Check whether car is in border\n",
    "                if (loc[0]+i>=0 and loc[0]+i<=self.size and loc[1]+j>=0 \n",
    "                    and loc[1]+j<=self.size):\n",
    "                    if (loc[0]+i,loc[1]+j) in self.borders:\n",
    "                        self.mapGrid[loc[0]+i][loc[1]+j] = 'W'\n",
    "                    elif Obstacle(loc[0]+i,loc[1]+j) in self.obsList:\n",
    "                        self.mapGrid[loc[0]+i][loc[1]+j] = self.obsDirDict[(loc[0]+i,loc[1]+j)]\n",
    "                    else:\n",
    "                        self.mapGrid[loc[0]+i][loc[1]+j] = '-'\n",
    "\n",
    "\n",
    "    def moveForwardSteps(self, steps):\n",
    "        self.resetCar()\n",
    "        self.car.moveForward(steps)\n",
    "        self.markCar() \n",
    "    \n",
    "    def moveForwardOnce(self):\n",
    "        self.resetCar()\n",
    "        self.car.moveForward(self.steps)\n",
    "        self.markCar()\n",
    "        \n",
    "    def turnCarOnSpot(self, rotate):\n",
    "        self.resetCar()\n",
    "        self.car.turnOnSpot(rotate)\n",
    "        self.markCar()\n",
    "        \n",
    "    def turnCar(self, steps):\n",
    "        self.resetCar()\n",
    "        self.car.turnWhileMoving(steps, self.radius)\n",
    "        self.markCar()\n",
    "        \n",
    "    \n",
    "    def addObstacle(self,x,y,facing):\n",
    "        if (x,y) not in self.borders:\n",
    "            self.obsList.append(Obstacle(x,y))\n",
    "            self.obsDirDict[(x,y)] = facing\n",
    "            #print(self.obsDirDict)\n",
    "            self.mapGrid[x][y] = facing\n",
    "        else:\n",
    "            print(\"Unable to add obstacle due to borders\")"
   ]
  },
  {
   "cell_type": "markdown",
   "metadata": {},
   "source": [
    "# Consider using dictionary to collate key-value pair for coordinates and direction?"
   ]
  },
  {
   "cell_type": "code",
   "execution_count": 5,
   "metadata": {},
   "outputs": [],
   "source": [
    "maze = Map(20,2.0,19.0,0)"
   ]
  },
  {
   "cell_type": "code",
   "execution_count": 6,
   "metadata": {},
   "outputs": [
    {
     "name": "stdout",
     "output_type": "stream",
     "text": [
      "W W W W W W W W W W W W W W W W W W W W W W \n",
      "W - - - - - - - - - - - - - - - - - - - - W \n",
      "W - - - - - - - - - - - - - - - - - - - - W \n",
      "W - - - - - - - - - - - - - - - - - - - - W \n",
      "W - - - - - - - - - - - - - - - - - - - - W \n",
      "W - - - - - - - - - - - - - - - - - - - - W \n",
      "W - - - - - - - - - - - - - - - - - - - - W \n",
      "W - - - - - - - - - - - - - - - - - - - - W \n",
      "W - - - - - - - - - - - - - - - - - - - - W \n",
      "W - - - - - - - - - - - - - - - - - - - - W \n",
      "W - - - - - - - - - - - - - - - - - - - - W \n",
      "W - - - - - - - - - - - - - - - - - - - - W \n",
      "W - - - - - - - - - - - - - - - - - - - - W \n",
      "W - - - - - - - - - - - - - - - - - - - - W \n",
      "W - - - - - - - - - - - - - - - - - - - - W \n",
      "W - - - - - - - - - - - - - - - - - - - - W \n",
      "W - - - - - - - - - - - - - - - - - - - - W \n",
      "W - - - - - - - - - - - - - - - - - - - - W \n",
      "W + + + - - - - - - - - - - - - - - - - - W \n",
      "W + $ @ - - - - - - - - - - - - - - - - - W \n",
      "W + + + - - - - - - - - - - - - - - - - - W \n",
      "W W W W W W W W W W W W W W W W W W W W W W \n"
     ]
    }
   ],
   "source": [
    "maze.printMap()"
   ]
  },
  {
   "cell_type": "code",
   "execution_count": 7,
   "metadata": {},
   "outputs": [],
   "source": [
    "maze.moveForwardOnce()"
   ]
  },
  {
   "cell_type": "code",
   "execution_count": 8,
   "metadata": {},
   "outputs": [
    {
     "name": "stdout",
     "output_type": "stream",
     "text": [
      "W W W W W W W W W W W W W W W W W W W W W W \n",
      "W - - - - - - - - - - - - - - - - - - - - W \n",
      "W - - - - - - - - - - - - - - - - - - - - W \n",
      "W - - - - - - - - - - - - - - - - - - - - W \n",
      "W - - - - - - - - - - - - - - - - - - - - W \n",
      "W - - - - - - - - - - - - - - - - - - - - W \n",
      "W - - - - - - - - - - - - - - - - - - - - W \n",
      "W - - - - - - - - - - - - - - - - - - - - W \n",
      "W - - - - - - - - - - - - - - - - - - - - W \n",
      "W - - - - - - - - - - - - - - - - - - - - W \n",
      "W - - - - - - - - - - - - - - - - - - - - W \n",
      "W - - - - - - - - - - - - - - - - - - - - W \n",
      "W - - - - - - - - - - - - - - - - - - - - W \n",
      "W - - - - - - - - - - - - - - - - - - - - W \n",
      "W - - - - - - - - - - - - - - - - - - - - W \n",
      "W - - - - - - - - - - - - - - - - - - - - W \n",
      "W - - - - - - - - - - - - - - - - - - - - W \n",
      "W - - - - - - - - - - - - - - - - - - - - W \n",
      "W - + + + - - - - - - - - - - - - - - - - W \n",
      "W - + $ @ - - - - - - - - - - - - - - - - W \n",
      "W - + + + - - - - - - - - - - - - - - - - W \n",
      "W W W W W W W W W W W W W W W W W W W W W W \n"
     ]
    }
   ],
   "source": [
    "maze.printMap()"
   ]
  },
  {
   "cell_type": "code",
   "execution_count": 9,
   "metadata": {},
   "outputs": [
    {
     "name": "stdout",
     "output_type": "stream",
     "text": [
      "-0.7853981633974483\n",
      "W W W W W W W W W W W W W W W W W W W W W W \n",
      "W - - - - - - - - - - - - - - - - - - - - W \n",
      "W - - - - - - - - - - - - - - - - - - - - W \n",
      "W - - - - - - - - - - - - - - - - - - - - W \n",
      "W - - - - - - - - - - - - - - - - - - - - W \n",
      "W - - - - - - - - - - - - - - - - - - - - W \n",
      "W - - - - - - - - - - - - - - - - - - - - W \n",
      "W - - - - - - - - - - - - - - - - - - - - W \n",
      "W - - - - - - - - - - - - - - - - - - - - W \n",
      "W - - - - - - - - - - - - - - - - - - - - W \n",
      "W - - - - - - - - - - - - - - - - - - - - W \n",
      "W - - - - - - - - + + @ - - - - - - - - - W \n",
      "W - - - - - - - - + $ + - - - - - - - - - W \n",
      "W - - - - - - - - + + + - - - - - - - - - W \n",
      "W - - - - - - - - - - - - - - - - - - - - W \n",
      "W - - - - - - - - - - - - - - - - - - - - W \n",
      "W - - - - - - - - - - - - - - - - - - - - W \n",
      "W - - - - - - - - - - - - - - - - - - - - W \n",
      "W - - - - - - - - - - - - - - - - - - - - W \n",
      "W - - - - - - - - - - - - - - - - - - - - W \n",
      "W - - - - - - - - - - - - - - - - - - - - W \n",
      "W W W W W W W W W W W W W W W W W W W W W W \n"
     ]
    }
   ],
   "source": [
    "maze.turnCarOnSpot(-PI/4)\n",
    "print(maze.car.direction)\n",
    "maze.moveForwardSteps(10)\n",
    "maze.printMap()"
   ]
  },
  {
   "cell_type": "code",
   "execution_count": 10,
   "metadata": {},
   "outputs": [
    {
     "name": "stdout",
     "output_type": "stream",
     "text": [
      "W W W W W W W W W W W W W W W W W W W W W W \n",
      "W - - - - - - - - - - - - - - - - - - - - W \n",
      "W - - - - - - - - - - - - - - - - - - - - W \n",
      "W - - - - - - - - - - - - - - - - - - - - W \n",
      "W - - - - - - - - - - - - - - - - - - - - W \n",
      "W - - - - - - - - - - - - - - - - - - - - W \n",
      "W - - - - - - - - - - - - - - - - - - - - W \n",
      "W - - - - - - - - - - - - - - - - - - - - W \n",
      "W - - - - - - - - - - - - - - - - - - - - W \n",
      "W - - - - - - - - - - - - - - - - - - - - W \n",
      "W - - - - - - - - - + + + - - - - - - - - W \n",
      "W - - - - - - - - - + $ @ - - - - - - - - W \n",
      "W - - - - - - - - - + + + - - - - - - - - W \n",
      "W - - - - - - - - - - - - - - - - - - - - W \n",
      "W - - - - - - - - - - - - - - - - - - - - W \n",
      "W - - - - - - - - - - - - - - - - - - - - W \n",
      "W - - - - - - - - - - - - - - - - - - - - W \n",
      "W - - - - - - - - - - - - - - - - - - - - W \n",
      "W - - - - - - - - - - - - - - - - - - - - W \n",
      "W - - - - - - - - - - - - - - - - - - - - W \n",
      "W - - - - - - - - - - - - - - - - - - - - W \n",
      "W W W W W W W W W W W W W W W W W W W W W W \n"
     ]
    }
   ],
   "source": [
    "maze.turnCar(2)\n",
    "maze.printMap()"
   ]
  },
  {
   "cell_type": "code",
   "execution_count": 11,
   "metadata": {},
   "outputs": [
    {
     "name": "stdout",
     "output_type": "stream",
     "text": [
      "0.014601836602551765\n"
     ]
    },
    {
     "data": {
      "text/plain": [
       "[11.485281374238571, 10.514718625761429]"
      ]
     },
     "execution_count": 11,
     "metadata": {},
     "output_type": "execute_result"
    }
   ],
   "source": [
    "print(maze.car.direction)\n",
    "maze.car.pos\n"
   ]
  },
  {
   "cell_type": "code",
   "execution_count": 12,
   "metadata": {},
   "outputs": [
    {
     "name": "stdout",
     "output_type": "stream",
     "text": [
      "W W W W W W W W W W W W W W W W W W W W W W \n",
      "W - - - - - - - - - - - - - - - - - - - - W \n",
      "W - - - - - - - - - - - - - - - - - - - - W \n",
      "W - - - - - - - - - - - - - - - - - - - - W \n",
      "W - - - - - - - - - - - - - - - - - - - - W \n",
      "W - - - - - - - - - - - - - - - - - - - - W \n",
      "W - - - - - - - - - - - - - - - - - - - - W \n",
      "W - - - - - - - - - - - - - - - - - - - - W \n",
      "W - - - - - - - - - - - - - - - - - - - - W \n",
      "W - - - - - - - - - - - - - - - - - - - - W \n",
      "W - - - - - - - - - - - - - - + + + - - - W \n",
      "W - - - - - - - - - - - - - - + $ + - - - W \n",
      "W - - - - - - - - - - - - - - @ + + - - - W \n",
      "W - - - - - - - - - - - - - - - - - - - - W \n",
      "W - - - - - - - - - - - - - - - - - - - - W \n",
      "W - - - - - - - - - - - - - - - - - - - - W \n",
      "W - - - - - - - - - - - - - - - - - - - - W \n",
      "W - - - - - - - - - - - - - - - - - - - - W \n",
      "W - - - - - - - - - - - - - - - - - - - - W \n",
      "W - - - - - - - - - - - - - - - - - - - - W \n",
      "W - - - - - - - - - - - - - - - - - - - - W \n",
      "W W W W W W W W W W W W W W W W W W W W W W \n"
     ]
    }
   ],
   "source": [
    "maze.turnCar(5)\n",
    "maze.printMap()"
   ]
  },
  {
   "cell_type": "code",
   "execution_count": 13,
   "metadata": {},
   "outputs": [
    {
     "name": "stdout",
     "output_type": "stream",
     "text": [
      "2.0146018366025515\n"
     ]
    },
    {
     "data": {
      "text/plain": [
       "[16.48474834962893, 10.58772521437633]"
      ]
     },
     "execution_count": 13,
     "metadata": {},
     "output_type": "execute_result"
    }
   ],
   "source": [
    "print(maze.car.direction)\n",
    "maze.car.pos"
   ]
  },
  {
   "cell_type": "code",
   "execution_count": 14,
   "metadata": {},
   "outputs": [
    {
     "name": "stdout",
     "output_type": "stream",
     "text": [
      "2.0146018366025515\n"
     ]
    },
    {
     "data": {
      "text/plain": [
       "[15.196610107989255, 13.297097811570273]"
      ]
     },
     "execution_count": 14,
     "metadata": {},
     "output_type": "execute_result"
    }
   ],
   "source": [
    "maze.moveForwardOnce()\n",
    "maze.moveForwardOnce()\n",
    "maze.moveForwardOnce()\n",
    "print(maze.car.direction)\n",
    "maze.car.pos"
   ]
  },
  {
   "cell_type": "code",
   "execution_count": 15,
   "metadata": {},
   "outputs": [
    {
     "name": "stdout",
     "output_type": "stream",
     "text": [
      "W W W W W W W W W W W W W W W W W W W W W W \n",
      "W - - - - - - - - - - - - - - - - - - - - W \n",
      "W - - - - - - - - - - - - - - - - - - - - W \n",
      "W - - - - - - - - - - - - - - - - - - - - W \n",
      "W - - - - - - - - - - - - - - - - - - - - W \n",
      "W - - - - - - - - - - - - - - - - - - - - W \n",
      "W - - - - - - - - - - - - - - - - - - - - W \n",
      "W - - - - - - - - - - - - - - - - - - - - W \n",
      "W - - - - - - - - - - - - - - - - - - - - W \n",
      "W - - - - - - - - - - - - - - - - - - - - W \n",
      "W - - - - - - - - - - - - - - - - - - - - W \n",
      "W - - - - - - - - - - - - - - - - - - - - W \n",
      "W - - - - - - - - - - - - - + + + - - - - W \n",
      "W - - - - - - - - - - - - - + $ + - - - - W \n",
      "W - - - - - - - - - - - - - @ + + - - - - W \n",
      "W - - - - - - - - - - - - - - - - - - - - W \n",
      "W - - - - - - - - - - - - - - - - - - - - W \n",
      "W - - - - - - - - - - - - - - - - - - - - W \n",
      "W - - - - - - - - - - - - - - - - - - - - W \n",
      "W - - - - - - - - - - - - - - - - - - - - W \n",
      "W - - - - - - - - - - - - - - - - - - - - W \n",
      "W W W W W W W W W W W W W W W W W W W W W W \n"
     ]
    }
   ],
   "source": [
    "maze.printMap()"
   ]
  },
  {
   "cell_type": "code",
   "execution_count": 16,
   "metadata": {},
   "outputs": [],
   "source": [
    "maze.addObstacle(2,2,\"V\")"
   ]
  },
  {
   "cell_type": "code",
   "execution_count": 17,
   "metadata": {},
   "outputs": [],
   "source": [
    "maze.addObstacle(5,5,\"^\")"
   ]
  },
  {
   "cell_type": "code",
   "execution_count": 18,
   "metadata": {},
   "outputs": [
    {
     "name": "stdout",
     "output_type": "stream",
     "text": [
      "True\n"
     ]
    }
   ],
   "source": [
    "print(Obstacle(2,2) in maze.obsList)"
   ]
  },
  {
   "cell_type": "code",
   "execution_count": 19,
   "metadata": {},
   "outputs": [
    {
     "name": "stdout",
     "output_type": "stream",
     "text": [
      "Unable to add obstacle due to borders\n"
     ]
    }
   ],
   "source": [
    "maze.addObstacle(0,0,0)"
   ]
  },
  {
   "cell_type": "code",
   "execution_count": 20,
   "metadata": {},
   "outputs": [
    {
     "name": "stdout",
     "output_type": "stream",
     "text": [
      "W W W W W W W W W W W W W W W W W W W W W W \n",
      "W - - - - - - - - - - - - - - - - - - - - W \n",
      "W - V - - - - - - - - - - - - - - - - - - W \n",
      "W - - - - - - - - - - - - - - - - - - - - W \n",
      "W - - - - - - - - - - - - - - - - - - - - W \n",
      "W - - - - ^ - - - - - - - - - - - - - - - W \n",
      "W - - - - - - - - - - - - - - - - - - - - W \n",
      "W - - - - - - - - - - - - - - - - - - - - W \n",
      "W - - - - - - - - - - - - - - - - - - - - W \n",
      "W - - - - - - - - - - - - - - - - - - - - W \n",
      "W - - - - - - - - - - - - - - - - - - - - W \n",
      "W - - - - - - - - - - - - - - - - - - - - W \n",
      "W - - - - - - - - - - - - - + + + - - - - W \n",
      "W - - - - - - - - - - - - - + $ + - - - - W \n",
      "W - - - - - - - - - - - - - @ + + - - - - W \n",
      "W - - - - - - - - - - - - - - - - - - - - W \n",
      "W - - - - - - - - - - - - - - - - - - - - W \n",
      "W - - - - - - - - - - - - - - - - - - - - W \n",
      "W - - - - - - - - - - - - - - - - - - - - W \n",
      "W - - - - - - - - - - - - - - - - - - - - W \n",
      "W - - - - - - - - - - - - - - - - - - - - W \n",
      "W W W W W W W W W W W W W W W W W W W W W W \n"
     ]
    }
   ],
   "source": [
    "maze.printMap()"
   ]
  },
  {
   "cell_type": "markdown",
   "metadata": {},
   "source": [
    "### Will need to account for size of wall"
   ]
  },
  {
   "cell_type": "code",
   "execution_count": null,
   "metadata": {},
   "outputs": [],
   "source": []
  }
 ],
 "metadata": {
  "kernelspec": {
   "display_name": "Python 3",
   "language": "python",
   "name": "python3"
  },
  "language_info": {
   "codemirror_mode": {
    "name": "ipython",
    "version": 3
   },
   "file_extension": ".py",
   "mimetype": "text/x-python",
   "name": "python",
   "nbconvert_exporter": "python",
   "pygments_lexer": "ipython3",
   "version": "3.8.5"
  }
 },
 "nbformat": 4,
 "nbformat_minor": 4
}
