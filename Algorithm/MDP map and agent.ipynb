{
 "cells": [
  {
   "cell_type": "code",
   "execution_count": 1,
   "metadata": {},
   "outputs": [],
   "source": [
    "import numpy as np\n",
    "import matplotlib.pyplot as plt\n",
    "from seaborn import heatmap\n",
    "import networkx as nx\n",
    "import queue"
   ]
  },
  {
   "cell_type": "code",
   "execution_count": 2,
   "metadata": {},
   "outputs": [],
   "source": [
    "class Agent:\n",
    "    pos = [0,0]\n",
    "    direction = 0\n",
    "    size = 3\n",
    "    def __init__(self,x,y,direction):\n",
    "        self.pos = [x,y]\n",
    "        self.direction = direction\n",
    "        \n",
    "    def getSize(self):\n",
    "        return self.size\n",
    "    \n",
    "    def getPos(self):\n",
    "        return self.pos\n",
    "    \n",
    "    def getDirection(self):\n",
    "        return self.direction\n",
    "    \n",
    "    def getCarFront(self):\n",
    "        #0=N, 2=E, 4=S, 6=W\n",
    "        front = self.pos.copy()\n",
    "        if self.direction == 0:\n",
    "            front[1] -= 1\n",
    "        elif self.direction == 1:\n",
    "            front[0] += 1\n",
    "            front[1] -= 1\n",
    "        elif self.direction == 2:\n",
    "            front[0] += 1\n",
    "        elif self.direction == 3:\n",
    "            front[0] += 1\n",
    "            front[1] += 1\n",
    "        elif self.direction == 4:\n",
    "            front[1] += 1\n",
    "        elif self.direction == 5:\n",
    "            front[0] -= 1\n",
    "            front[1] += 1\n",
    "        elif self.direction == 6:\n",
    "            front[0] -= 1\n",
    "        elif self.direction == 7:\n",
    "            front[0] -= 1\n",
    "            front[1] -= 1\n",
    "        \n",
    "        return front\n",
    "        \n",
    "    def turn(self, direction):\n",
    "        self.direction = (self.direction + direction) % 8\n",
    "        #Example case, turn left from North\n",
    "        if self.direction < 0:\n",
    "            self.direction = 8 + self.direction\n",
    "    \n",
    "    def moveForward(self, steps):\n",
    "        #0=N, 2=E, 4=S, 6=W\n",
    "        if self.direction == 0:\n",
    "            self.pos[1] -= steps\n",
    "        elif self.direction == 1:\n",
    "            self.pos[0] += steps\n",
    "            self.pos[1] -= steps\n",
    "        elif self.direction == 2:\n",
    "            self.pos[0] += steps\n",
    "        elif self.direction == 3:\n",
    "            self.pos[0] += steps\n",
    "            self.pos[1] += steps\n",
    "        elif self.direction == 4:\n",
    "            self.pos[1] += steps\n",
    "        elif self.direction == 5:\n",
    "            self.pos[0] -= steps\n",
    "            self.pos[1] += steps\n",
    "        elif self.direction == 6:\n",
    "            self.pos[0] -= steps\n",
    "        elif self.direction == 7:\n",
    "            self.pos[0] -= steps\n",
    "            self.pos[1] -= steps\n",
    "            \n"
   ]
  },
  {
   "cell_type": "code",
   "execution_count": 3,
   "metadata": {},
   "outputs": [],
   "source": [
    "class Obstacle:\n",
    "    pos = [0,0]\n",
    "    face = 0\n",
    "    size = 1\n",
    "    \n",
    "    def __init__(self, *args):\n",
    "        if len(args) == 2:\n",
    "            self.pos = [args[0], args[1]]\n",
    "        elif len(args) == 3:\n",
    "            self.pos = [args[0], args[1]]\n",
    "            self.face = args[2]\n",
    "        else:\n",
    "            print(\"Incorrect argument count\")\n",
    "                \n",
    "                \n",
    "    def __eq__(self, other):\n",
    "        if self.pos == other.pos and self.face == other.face:\n",
    "            return True\n",
    "        return False\n",
    "    \n",
    "    def getObsFacing(self):\n",
    "        return self.face"
   ]
  },
  {
   "cell_type": "code",
   "execution_count": 4,
   "metadata": {},
   "outputs": [],
   "source": [
    "class Map:\n",
    "    mapGrid = []\n",
    "    car = Agent(0,0,0)\n",
    "    obsList = []\n",
    "    obsDirDict = {}\n",
    "    borders = set()\n",
    "    size = 0\n",
    "    \n",
    "    def __init__(self,size,x,y,direction):\n",
    "        self.size = size + 2\n",
    "        for i in range(self.size):\n",
    "            self.borders.add((0,i))\n",
    "            self.borders.add((self.size-1, i))\n",
    "            self.borders.add((i,0))\n",
    "            self.borders.add((i,self.size-1))\n",
    "        #print(self.borders)\n",
    "        self.initMap(self.size,x,y,direction)\n",
    "    \n",
    "    def initMap(self,size,x,y,direction):\n",
    "        self.car.pos = [x,y]\n",
    "        self.car.direction = direction\n",
    "        for i in range(self.size):\n",
    "            templist= []\n",
    "            for j in range(self.size):\n",
    "                if ((i,j) in self.borders):\n",
    "                    templist.append(\"W\")\n",
    "                else:\n",
    "                    templist.append(\"-\")\n",
    "            self.mapGrid.append(templist)\n",
    "        self.markCar()\n",
    "    \n",
    "    def printMap(self):\n",
    "        for i in range(self.size):\n",
    "            for j in range(self.size):\n",
    "                print(self.mapGrid[j][i], end = \" \")\n",
    "            print()\n",
    "            \n",
    "    def resetCar(self):\n",
    "        loc = self.car.getPos()\n",
    "        sizeCar = self.car.getSize()\n",
    "        #wingspan of the car\n",
    "        span = int((sizeCar - 1)/2)\n",
    "        \n",
    "        #Remove car on map\n",
    "        for i in range(-span, span+1):\n",
    "            for j in range(-span, span+1):\n",
    "                    self.mapGrid[loc[0]+i][loc[1]+j] = '-'\n",
    "             \n",
    "    \n",
    "    def markCar(self):\n",
    "        loc = self.car.getPos()\n",
    "        front = self.car.getCarFront()\n",
    "        sizeCar = self.car.getSize()\n",
    "        #wingspan of the car\n",
    "        span = int((sizeCar - 1)/2)\n",
    "        \n",
    "        #Avoid checking more if one fails\n",
    "        fail = 0\n",
    "        #Mark car on map\n",
    "        for i in range(-span, span+1):\n",
    "            for j in range(-span, span+1):\n",
    "                #Check whether car is in border or in Obstacle\n",
    "                if (loc[0]+i>=0 and loc[0]+i<= self.size and loc[1]+j>=0 \n",
    "                    and loc[1]+j<= self.size and (loc[0]+i,loc[1]+j) not in self.borders \n",
    "                    and Obstacle(loc[0]+i,loc[1]+j) not in self.obsList):\n",
    "                     \n",
    "                    if i == 0 and j == 0:\n",
    "                        self.mapGrid[loc[0]][loc[1]] = '$'\n",
    "                    elif (loc[0]+i) == front[0] and (loc[1]+j) == front[1]:\n",
    "                        self.mapGrid[loc[0]+i][loc[1]+j] = '@'\n",
    "                    else:\n",
    "                        self.mapGrid[loc[0]+i][loc[1]+j] = '+'\n",
    "                #Remove car if in border\n",
    "                else:\n",
    "                    fail = 1\n",
    "                    break\n",
    "            \n",
    "            if fail == 1:\n",
    "                    self.checkCarBorder()\n",
    "                    print(\"Car in border obstacle\")\n",
    "                    break\n",
    "    \n",
    "    \n",
    "    def checkCarBorder(self):\n",
    "        loc = self.car.getPos()\n",
    "        sizeCar = self.car.getSize()\n",
    "        #wingspan of the car\n",
    "        span = int((sizeCar - 1)/2)\n",
    "        \n",
    "        #Remove car on map\n",
    "        for i in range(-span, span+1):\n",
    "            for j in range(-span, span+1):\n",
    "                #Check whether car is in border\n",
    "                if (loc[0]+i>=0 and loc[0]+i<=self.size and loc[1]+j>=0 \n",
    "                    and loc[1]+j<=self.size):\n",
    "                    if (loc[0]+i,loc[1]+j) in self.borders:\n",
    "                        self.mapGrid[loc[0]+i][loc[1]+j] = 'W'\n",
    "                    elif Obstacle(loc[0]+i,loc[1]+j) in self.obsList:\n",
    "                        self.mapGrid[loc[0]+i][loc[1]+j] = self.obsDirDict[(loc[0]+i,loc[1]+j)]\n",
    "                    else:\n",
    "                        self.mapGrid[loc[0]+i][loc[1]+j] = '-'\n",
    "                    \n",
    "    def moveCar(self,steps):\n",
    "        self.resetCar()\n",
    "        self.car.moveForward(steps)\n",
    "        self.markCar()\n",
    "        \n",
    "    def turnCar(self,rotate):\n",
    "        self.resetCar()\n",
    "        self.car.turn(rotate)\n",
    "        self.markCar()\n",
    "        \n",
    "    def addObstacle(self,x,y,facing):\n",
    "        if (x,y) not in self.borders:\n",
    "            self.obsList.append(Obstacle(x,y))\n",
    "            self.obsDirDict[(x,y)] = facing\n",
    "            #print(self.obsDirDict)\n",
    "            self.mapGrid[x][y] = facing\n",
    "        else:\n",
    "            print(\"Unable to add obstacle due to borders\")"
   ]
  },
  {
   "cell_type": "markdown",
   "metadata": {},
   "source": [
    "# Consider using dictionary to collate key-value pair for coordinates and direction?"
   ]
  },
  {
   "cell_type": "code",
   "execution_count": 5,
   "metadata": {},
   "outputs": [],
   "source": [
    "maze = Map(20,2,19,0)"
   ]
  },
  {
   "cell_type": "code",
   "execution_count": 6,
   "metadata": {},
   "outputs": [
    {
     "name": "stdout",
     "output_type": "stream",
     "text": [
      "W W W W W W W W W W W W W W W W W W W W W W \n",
      "W - - - - - - - - - - - - - - - - - - - - W \n",
      "W - - - - - - - - - - - - - - - - - - - - W \n",
      "W - - - - - - - - - - - - - - - - - - - - W \n",
      "W - - - - - - - - - - - - - - - - - - - - W \n",
      "W - - - - - - - - - - - - - - - - - - - - W \n",
      "W - - - - - - - - - - - - - - - - - - - - W \n",
      "W - - - - - - - - - - - - - - - - - - - - W \n",
      "W - - - - - - - - - - - - - - - - - - - - W \n",
      "W - - - - - - - - - - - - - - - - - - - - W \n",
      "W - - - - - - - - - - - - - - - - - - - - W \n",
      "W - - - - - - - - - - - - - - - - - - - - W \n",
      "W - - - - - - - - - - - - - - - - - - - - W \n",
      "W - - - - - - - - - - - - - - - - - - - - W \n",
      "W - - - - - - - - - - - - - - - - - - - - W \n",
      "W - - - - - - - - - - - - - - - - - - - - W \n",
      "W - - - - - - - - - - - - - - - - - - - - W \n",
      "W - - - - - - - - - - - - - - - - - - - - W \n",
      "W + @ + - - - - - - - - - - - - - - - - - W \n",
      "W + $ + - - - - - - - - - - - - - - - - - W \n",
      "W + + + - - - - - - - - - - - - - - - - - W \n",
      "W W W W W W W W W W W W W W W W W W W W W W \n"
     ]
    }
   ],
   "source": [
    "maze.printMap()"
   ]
  },
  {
   "cell_type": "code",
   "execution_count": 7,
   "metadata": {},
   "outputs": [],
   "source": [
    "maze.moveCar(2)"
   ]
  },
  {
   "cell_type": "code",
   "execution_count": 8,
   "metadata": {},
   "outputs": [
    {
     "name": "stdout",
     "output_type": "stream",
     "text": [
      "W W W W W W W W W W W W W W W W W W W W W W \n",
      "W - - - - - - - - - - - - - - - - - - - - W \n",
      "W - - - - - - - - - - - - - - - - - - - - W \n",
      "W - - - - - - - - - - - - - - - - - - - - W \n",
      "W - - - - - - - - - - - - - - - - - - - - W \n",
      "W - - - - - - - - - - - - - - - - - - - - W \n",
      "W - - - - - - - - - - - - - - - - - - - - W \n",
      "W - - - - - - - - - - - - - - - - - - - - W \n",
      "W - - - - - - - - - - - - - - - - - - - - W \n",
      "W - - - - - - - - - - - - - - - - - - - - W \n",
      "W - - - - - - - - - - - - - - - - - - - - W \n",
      "W - - - - - - - - - - - - - - - - - - - - W \n",
      "W - - - - - - - - - - - - - - - - - - - - W \n",
      "W - - - - - - - - - - - - - - - - - - - - W \n",
      "W - - - - - - - - - - - - - - - - - - - - W \n",
      "W - - - - - - - - - - - - - - - - - - - - W \n",
      "W + @ + - - - - - - - - - - - - - - - - - W \n",
      "W + $ + - - - - - - - - - - - - - - - - - W \n",
      "W + + + - - - - - - - - - - - - - - - - - W \n",
      "W - - - - - - - - - - - - - - - - - - - - W \n",
      "W - - - - - - - - - - - - - - - - - - - - W \n",
      "W W W W W W W W W W W W W W W W W W W W W W \n"
     ]
    }
   ],
   "source": [
    "maze.printMap()"
   ]
  },
  {
   "cell_type": "code",
   "execution_count": 9,
   "metadata": {},
   "outputs": [],
   "source": [
    "maze.turnCar(1)"
   ]
  },
  {
   "cell_type": "code",
   "execution_count": 10,
   "metadata": {},
   "outputs": [
    {
     "name": "stdout",
     "output_type": "stream",
     "text": [
      "W W W W W W W W W W W W W W W W W W W W W W \n",
      "W - - - - - - - - - - - - - - - - - - - - W \n",
      "W - - - - - - - - - - - - - - - - - - - - W \n",
      "W - - - - - - - - - - - - - - - - - - - - W \n",
      "W - - - - - - - - - - - - - - - - - - - - W \n",
      "W - - - - - - - - - - - - - - - - - - - - W \n",
      "W - - - - - - - - - - - - - - - - - - - - W \n",
      "W - - - - - - - - - - - - - - - - - - - - W \n",
      "W - - - - - - - - - - - - - - - - - - - - W \n",
      "W - - - - - - - - - - - - - - - - - - - - W \n",
      "W - - - - - - - - - - - - - - - - - - - - W \n",
      "W - - - - - - - - - - - - - - - - - - - - W \n",
      "W - - - - - - - - - - - - - - - - - - - - W \n",
      "W - - - - - - - - - - - - - - - - - - - - W \n",
      "W - - - - - - - - - - - - - - - - - - - - W \n",
      "W - - - - - - - - - - - - - - - - - - - - W \n",
      "W + + @ - - - - - - - - - - - - - - - - - W \n",
      "W + $ + - - - - - - - - - - - - - - - - - W \n",
      "W + + + - - - - - - - - - - - - - - - - - W \n",
      "W - - - - - - - - - - - - - - - - - - - - W \n",
      "W - - - - - - - - - - - - - - - - - - - - W \n",
      "W W W W W W W W W W W W W W W W W W W W W W \n"
     ]
    }
   ],
   "source": [
    "maze.printMap()"
   ]
  },
  {
   "cell_type": "code",
   "execution_count": 11,
   "metadata": {},
   "outputs": [],
   "source": [
    "maze.moveCar(2)"
   ]
  },
  {
   "cell_type": "code",
   "execution_count": 12,
   "metadata": {},
   "outputs": [
    {
     "name": "stdout",
     "output_type": "stream",
     "text": [
      "W W W W W W W W W W W W W W W W W W W W W W \n",
      "W - - - - - - - - - - - - - - - - - - - - W \n",
      "W - - - - - - - - - - - - - - - - - - - - W \n",
      "W - - - - - - - - - - - - - - - - - - - - W \n",
      "W - - - - - - - - - - - - - - - - - - - - W \n",
      "W - - - - - - - - - - - - - - - - - - - - W \n",
      "W - - - - - - - - - - - - - - - - - - - - W \n",
      "W - - - - - - - - - - - - - - - - - - - - W \n",
      "W - - - - - - - - - - - - - - - - - - - - W \n",
      "W - - - - - - - - - - - - - - - - - - - - W \n",
      "W - - - - - - - - - - - - - - - - - - - - W \n",
      "W - - - - - - - - - - - - - - - - - - - - W \n",
      "W - - - - - - - - - - - - - - - - - - - - W \n",
      "W - - - - - - - - - - - - - - - - - - - - W \n",
      "W - - + + @ - - - - - - - - - - - - - - - W \n",
      "W - - + $ + - - - - - - - - - - - - - - - W \n",
      "W - - + + + - - - - - - - - - - - - - - - W \n",
      "W - - - - - - - - - - - - - - - - - - - - W \n",
      "W - - - - - - - - - - - - - - - - - - - - W \n",
      "W - - - - - - - - - - - - - - - - - - - - W \n",
      "W - - - - - - - - - - - - - - - - - - - - W \n",
      "W W W W W W W W W W W W W W W W W W W W W W \n"
     ]
    }
   ],
   "source": [
    "maze.printMap()"
   ]
  },
  {
   "cell_type": "code",
   "execution_count": 13,
   "metadata": {},
   "outputs": [],
   "source": [
    "maze.addObstacle(2,2,2)"
   ]
  },
  {
   "cell_type": "code",
   "execution_count": 14,
   "metadata": {},
   "outputs": [],
   "source": [
    "maze.addObstacle(5,5,4)"
   ]
  },
  {
   "cell_type": "code",
   "execution_count": 15,
   "metadata": {},
   "outputs": [
    {
     "name": "stdout",
     "output_type": "stream",
     "text": [
      "True\n"
     ]
    }
   ],
   "source": [
    "print(Obstacle(2,2) in maze.obsList)"
   ]
  },
  {
   "cell_type": "code",
   "execution_count": 16,
   "metadata": {},
   "outputs": [
    {
     "name": "stdout",
     "output_type": "stream",
     "text": [
      "Unable to add obstacle due to borders\n"
     ]
    }
   ],
   "source": [
    "maze.addObstacle(0,0,4)"
   ]
  },
  {
   "cell_type": "code",
   "execution_count": 17,
   "metadata": {},
   "outputs": [
    {
     "name": "stdout",
     "output_type": "stream",
     "text": [
      "W W W W W W W W W W W W W W W W W W W W W W \n",
      "W - - - - - - - - - - - - - - - - - - - - W \n",
      "W - 2 - - - - - - - - - - - - - - - - - - W \n",
      "W - - - - - - - - - - - - - - - - - - - - W \n",
      "W - - - - - - - - - - - - - - - - - - - - W \n",
      "W - - - - 4 - - - - - - - - - - - - - - - W \n",
      "W - - - - - - - - - - - - - - - - - - - - W \n",
      "W - - - - - - - - - - - - - - - - - - - - W \n",
      "W - - - - - - - - - - - - - - - - - - - - W \n",
      "W - - - - - - - - - - - - - - - - - - - - W \n",
      "W - - - - - - - - - - - - - - - - - - - - W \n",
      "W - - - - - - - - - - - - - - - - - - - - W \n",
      "W - - - - - - - - - - - - - - - - - - - - W \n",
      "W - - - - - - - - - - - - - - - - - - - - W \n",
      "W - - + + @ - - - - - - - - - - - - - - - W \n",
      "W - - + $ + - - - - - - - - - - - - - - - W \n",
      "W - - + + + - - - - - - - - - - - - - - - W \n",
      "W - - - - - - - - - - - - - - - - - - - - W \n",
      "W - - - - - - - - - - - - - - - - - - - - W \n",
      "W - - - - - - - - - - - - - - - - - - - - W \n",
      "W - - - - - - - - - - - - - - - - - - - - W \n",
      "W W W W W W W W W W W W W W W W W W W W W W \n"
     ]
    }
   ],
   "source": [
    "maze.printMap()"
   ]
  },
  {
   "cell_type": "markdown",
   "metadata": {},
   "source": [
    "### Will need to account for size of wall"
   ]
  },
  {
   "cell_type": "code",
   "execution_count": 18,
   "metadata": {},
   "outputs": [],
   "source": [
    "maze.turnCar(-1)"
   ]
  },
  {
   "cell_type": "code",
   "execution_count": 19,
   "metadata": {},
   "outputs": [],
   "source": [
    "maze.moveCar(8)"
   ]
  },
  {
   "cell_type": "code",
   "execution_count": 20,
   "metadata": {},
   "outputs": [
    {
     "name": "stdout",
     "output_type": "stream",
     "text": [
      "W W W W W W W W W W W W W W W W W W W W W W \n",
      "W - - - - - - - - - - - - - - - - - - - - W \n",
      "W - 2 - - - - - - - - - - - - - - - - - - W \n",
      "W - - - - - - - - - - - - - - - - - - - - W \n",
      "W - - - - - - - - - - - - - - - - - - - - W \n",
      "W - - - - 4 - - - - - - - - - - - - - - - W \n",
      "W - - + @ + - - - - - - - - - - - - - - - W \n",
      "W - - + $ + - - - - - - - - - - - - - - - W \n",
      "W - - + + + - - - - - - - - - - - - - - - W \n",
      "W - - - - - - - - - - - - - - - - - - - - W \n",
      "W - - - - - - - - - - - - - - - - - - - - W \n",
      "W - - - - - - - - - - - - - - - - - - - - W \n",
      "W - - - - - - - - - - - - - - - - - - - - W \n",
      "W - - - - - - - - - - - - - - - - - - - - W \n",
      "W - - - - - - - - - - - - - - - - - - - - W \n",
      "W - - - - - - - - - - - - - - - - - - - - W \n",
      "W - - - - - - - - - - - - - - - - - - - - W \n",
      "W - - - - - - - - - - - - - - - - - - - - W \n",
      "W - - - - - - - - - - - - - - - - - - - - W \n",
      "W - - - - - - - - - - - - - - - - - - - - W \n",
      "W - - - - - - - - - - - - - - - - - - - - W \n",
      "W W W W W W W W W W W W W W W W W W W W W W \n"
     ]
    }
   ],
   "source": [
    "maze.printMap()"
   ]
  },
  {
   "cell_type": "code",
   "execution_count": 21,
   "metadata": {},
   "outputs": [
    {
     "name": "stdout",
     "output_type": "stream",
     "text": [
      "Car in border obstacle\n"
     ]
    }
   ],
   "source": [
    "maze.moveCar(1)"
   ]
  },
  {
   "cell_type": "code",
   "execution_count": 22,
   "metadata": {},
   "outputs": [
    {
     "name": "stdout",
     "output_type": "stream",
     "text": [
      "W W W W W W W W W W W W W W W W W W W W W W \n",
      "W - - - - - - - - - - - - - - - - - - - - W \n",
      "W - 2 - - - - - - - - - - - - - - - - - - W \n",
      "W - - - - - - - - - - - - - - - - - - - - W \n",
      "W - - - - - - - - - - - - - - - - - - - - W \n",
      "W - - - - 4 - - - - - - - - - - - - - - - W \n",
      "W - - - - - - - - - - - - - - - - - - - - W \n",
      "W - - - - - - - - - - - - - - - - - - - - W \n",
      "W - - - - - - - - - - - - - - - - - - - - W \n",
      "W - - - - - - - - - - - - - - - - - - - - W \n",
      "W - - - - - - - - - - - - - - - - - - - - W \n",
      "W - - - - - - - - - - - - - - - - - - - - W \n",
      "W - - - - - - - - - - - - - - - - - - - - W \n",
      "W - - - - - - - - - - - - - - - - - - - - W \n",
      "W - - - - - - - - - - - - - - - - - - - - W \n",
      "W - - - - - - - - - - - - - - - - - - - - W \n",
      "W - - - - - - - - - - - - - - - - - - - - W \n",
      "W - - - - - - - - - - - - - - - - - - - - W \n",
      "W - - - - - - - - - - - - - - - - - - - - W \n",
      "W - - - - - - - - - - - - - - - - - - - - W \n",
      "W - - - - - - - - - - - - - - - - - - - - W \n",
      "W W W W W W W W W W W W W W W W W W W W W W \n"
     ]
    }
   ],
   "source": [
    "maze.printMap()"
   ]
  },
  {
   "cell_type": "code",
   "execution_count": null,
   "metadata": {},
   "outputs": [],
   "source": []
  }
 ],
 "metadata": {
  "kernelspec": {
   "display_name": "Python 3",
   "language": "python",
   "name": "python3"
  },
  "language_info": {
   "codemirror_mode": {
    "name": "ipython",
    "version": 3
   },
   "file_extension": ".py",
   "mimetype": "text/x-python",
   "name": "python",
   "nbconvert_exporter": "python",
   "pygments_lexer": "ipython3",
   "version": "3.8.5"
  }
 },
 "nbformat": 4,
 "nbformat_minor": 4
}
